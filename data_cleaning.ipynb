{
 "cells": [
  {
   "cell_type": "markdown",
   "metadata": {},
   "source": [
    "Zuallererst wurden die Daten von https://gol.gg/players/list/season-S10/split-ALL/tournament-ALL/ als Excel-Tabelle herunter geladen. Aus dieser Tabelle wurden Bilder entfernt und die Spalten-Bezeichnungen hinzugefügt. \n",
    "Die Abkürzungen bedeuten: (hier fehlen erklärungen)<br>\n",
    "KDA = Kill Death Assist <br>\n",
    "CSM = Average Creep Score per Minute per Game <br>\n",
    "GPM = Average Gold per Minute per Games <br>\n",
    "KP = Average Kill Participation per Game<br>\n",
    "DMG = Average share of team's total damage to champions per game<br>\n",
    "DPM = Average damage to champions per minute per game<br>\n",
    "VSPM = Average vision score per minute per game<br>\n",
    "WPM = Wards per minute per Game<br>\n",
    "WCPM = Wards cleared per minute per game<br>\n",
    "VWPM = vision wards per minute per game<br>\n",
    "GD@15 = Average Gold Difference at 15 minutes<br>\n",
    "CSD@15 = Average Creep Score Difference at 15 minutes<br>\n",
    "XPD@15 = Average Experience Points Difference at 15 minutes<br>\n",
    "FB = Firstblood Participation<br>\n",
    "FB Victim = First blood Victim<br>\n",
    "Penta Kills = Total Pentakills<br>\n",
    "Solo Kills = Total Kills without Teammate Participation<br>"
   ]
  },
  {
   "cell_type": "code",
   "execution_count": 57,
   "metadata": {},
   "outputs": [],
   "source": [
    "import pandas as pd\n",
    "import os"
   ]
  },
  {
   "cell_type": "markdown",
   "metadata": {},
   "source": [
    "&darr; Ändert bitte Pfad auf euren Speicherort von **win-rate-prediction** &darr;"
   ]
  },
  {
   "cell_type": "code",
   "execution_count": 65,
   "metadata": {},
   "outputs": [
    {
     "data": {
      "text/plain": [
       "'D:\\\\uni\\\\DataExplo\\\\project1\\\\win-rate-prediction'"
      ]
     },
     "execution_count": 65,
     "metadata": {},
     "output_type": "execute_result"
    }
   ],
   "source": [
    "rootPath = \"D:/uni/DataExplo/project1/win-rate-prediction/\"\n",
    "os.chdir(rootPath)\n",
    "os.getcwd()"
   ]
  },
  {
   "cell_type": "code",
   "execution_count": 66,
   "metadata": {},
   "outputs": [],
   "source": [
    "pd.set_option(\"display.max_columns\", None)"
   ]
  },
  {
   "cell_type": "markdown",
   "metadata": {},
   "source": [
    "---"
   ]
  },
  {
   "cell_type": "markdown",
   "metadata": {},
   "source": [
    "Laden der Rohdaten in Pandas (Hier nur zu Doku zwecken. In zukunft die bereits bearbeiteten Daten nutzen!)<br>\n",
    "in rawPath kommt der Pfad zur Excel Tabelle."
   ]
  },
  {
   "cell_type": "code",
   "execution_count": 60,
   "metadata": {
    "scrolled": true
   },
   "outputs": [
    {
     "ename": "ValueError",
     "evalue": "Your version of xlrd is 2.0.1. In xlrd >= 2.0, only the xls format is supported. Install openpyxl instead.",
     "output_type": "error",
     "traceback": [
      "\u001b[1;31m---------------------------------------------------------------------------\u001b[0m",
      "\u001b[1;31mValueError\u001b[0m                                Traceback (most recent call last)",
      "\u001b[1;32m<ipython-input-60-f9e1051fbbb9>\u001b[0m in \u001b[0;36m<module>\u001b[1;34m\u001b[0m\n\u001b[0;32m      1\u001b[0m \u001b[0mrawPath\u001b[0m \u001b[1;33m=\u001b[0m \u001b[1;34m\"RawDataTopS10.xlsx\"\u001b[0m\u001b[1;33m\u001b[0m\u001b[1;33m\u001b[0m\u001b[0m\n\u001b[1;32m----> 2\u001b[1;33m \u001b[0mrawdf\u001b[0m \u001b[1;33m=\u001b[0m \u001b[0mpd\u001b[0m\u001b[1;33m.\u001b[0m\u001b[0mread_excel\u001b[0m\u001b[1;33m(\u001b[0m\u001b[0mrawPath\u001b[0m\u001b[1;33m)\u001b[0m\u001b[1;33m\u001b[0m\u001b[1;33m\u001b[0m\u001b[0m\n\u001b[0m\u001b[0;32m      3\u001b[0m \u001b[0mrawdf\u001b[0m\u001b[1;33m.\u001b[0m\u001b[0mhead\u001b[0m\u001b[1;33m(\u001b[0m\u001b[1;33m)\u001b[0m\u001b[1;33m\u001b[0m\u001b[1;33m\u001b[0m\u001b[0m\n",
      "\u001b[1;32m~\\AppData\\Roaming\\Python\\Python39\\site-packages\\pandas\\util\\_decorators.py\u001b[0m in \u001b[0;36mwrapper\u001b[1;34m(*args, **kwargs)\u001b[0m\n\u001b[0;32m    297\u001b[0m                 )\n\u001b[0;32m    298\u001b[0m                 \u001b[0mwarnings\u001b[0m\u001b[1;33m.\u001b[0m\u001b[0mwarn\u001b[0m\u001b[1;33m(\u001b[0m\u001b[0mmsg\u001b[0m\u001b[1;33m,\u001b[0m \u001b[0mFutureWarning\u001b[0m\u001b[1;33m,\u001b[0m \u001b[0mstacklevel\u001b[0m\u001b[1;33m=\u001b[0m\u001b[0mstacklevel\u001b[0m\u001b[1;33m)\u001b[0m\u001b[1;33m\u001b[0m\u001b[1;33m\u001b[0m\u001b[0m\n\u001b[1;32m--> 299\u001b[1;33m             \u001b[1;32mreturn\u001b[0m \u001b[0mfunc\u001b[0m\u001b[1;33m(\u001b[0m\u001b[1;33m*\u001b[0m\u001b[0margs\u001b[0m\u001b[1;33m,\u001b[0m \u001b[1;33m**\u001b[0m\u001b[0mkwargs\u001b[0m\u001b[1;33m)\u001b[0m\u001b[1;33m\u001b[0m\u001b[1;33m\u001b[0m\u001b[0m\n\u001b[0m\u001b[0;32m    300\u001b[0m \u001b[1;33m\u001b[0m\u001b[0m\n\u001b[0;32m    301\u001b[0m         \u001b[1;32mreturn\u001b[0m \u001b[0mwrapper\u001b[0m\u001b[1;33m\u001b[0m\u001b[1;33m\u001b[0m\u001b[0m\n",
      "\u001b[1;32m~\\AppData\\Roaming\\Python\\Python39\\site-packages\\pandas\\io\\excel\\_base.py\u001b[0m in \u001b[0;36mread_excel\u001b[1;34m(io, sheet_name, header, names, index_col, usecols, squeeze, dtype, engine, converters, true_values, false_values, skiprows, nrows, na_values, keep_default_na, na_filter, verbose, parse_dates, date_parser, thousands, comment, skipfooter, convert_float, mangle_dupe_cols, storage_options)\u001b[0m\n\u001b[0;32m    334\u001b[0m     \u001b[1;32mif\u001b[0m \u001b[1;32mnot\u001b[0m \u001b[0misinstance\u001b[0m\u001b[1;33m(\u001b[0m\u001b[0mio\u001b[0m\u001b[1;33m,\u001b[0m \u001b[0mExcelFile\u001b[0m\u001b[1;33m)\u001b[0m\u001b[1;33m:\u001b[0m\u001b[1;33m\u001b[0m\u001b[1;33m\u001b[0m\u001b[0m\n\u001b[0;32m    335\u001b[0m         \u001b[0mshould_close\u001b[0m \u001b[1;33m=\u001b[0m \u001b[1;32mTrue\u001b[0m\u001b[1;33m\u001b[0m\u001b[1;33m\u001b[0m\u001b[0m\n\u001b[1;32m--> 336\u001b[1;33m         \u001b[0mio\u001b[0m \u001b[1;33m=\u001b[0m \u001b[0mExcelFile\u001b[0m\u001b[1;33m(\u001b[0m\u001b[0mio\u001b[0m\u001b[1;33m,\u001b[0m \u001b[0mstorage_options\u001b[0m\u001b[1;33m=\u001b[0m\u001b[0mstorage_options\u001b[0m\u001b[1;33m,\u001b[0m \u001b[0mengine\u001b[0m\u001b[1;33m=\u001b[0m\u001b[0mengine\u001b[0m\u001b[1;33m)\u001b[0m\u001b[1;33m\u001b[0m\u001b[1;33m\u001b[0m\u001b[0m\n\u001b[0m\u001b[0;32m    337\u001b[0m     \u001b[1;32melif\u001b[0m \u001b[0mengine\u001b[0m \u001b[1;32mand\u001b[0m \u001b[0mengine\u001b[0m \u001b[1;33m!=\u001b[0m \u001b[0mio\u001b[0m\u001b[1;33m.\u001b[0m\u001b[0mengine\u001b[0m\u001b[1;33m:\u001b[0m\u001b[1;33m\u001b[0m\u001b[1;33m\u001b[0m\u001b[0m\n\u001b[0;32m    338\u001b[0m         raise ValueError(\n",
      "\u001b[1;32m~\\AppData\\Roaming\\Python\\Python39\\site-packages\\pandas\\io\\excel\\_base.py\u001b[0m in \u001b[0;36m__init__\u001b[1;34m(self, path_or_buffer, engine, storage_options)\u001b[0m\n\u001b[0;32m   1100\u001b[0m \u001b[1;33m\u001b[0m\u001b[0m\n\u001b[0;32m   1101\u001b[0m             \u001b[1;32mif\u001b[0m \u001b[0mext\u001b[0m \u001b[1;33m!=\u001b[0m \u001b[1;34m\"xls\"\u001b[0m \u001b[1;32mand\u001b[0m \u001b[0mxlrd_version\u001b[0m \u001b[1;33m>=\u001b[0m \u001b[1;34m\"2\"\u001b[0m\u001b[1;33m:\u001b[0m\u001b[1;33m\u001b[0m\u001b[1;33m\u001b[0m\u001b[0m\n\u001b[1;32m-> 1102\u001b[1;33m                 raise ValueError(\n\u001b[0m\u001b[0;32m   1103\u001b[0m                     \u001b[1;34mf\"Your version of xlrd is {xlrd_version}. In xlrd >= 2.0, \"\u001b[0m\u001b[1;33m\u001b[0m\u001b[1;33m\u001b[0m\u001b[0m\n\u001b[0;32m   1104\u001b[0m                     \u001b[1;34mf\"only the xls format is supported. Install openpyxl instead.\"\u001b[0m\u001b[1;33m\u001b[0m\u001b[1;33m\u001b[0m\u001b[0m\n",
      "\u001b[1;31mValueError\u001b[0m: Your version of xlrd is 2.0.1. In xlrd >= 2.0, only the xls format is supported. Install openpyxl instead."
     ]
    }
   ],
   "source": [
    "rawPath = \"RawDataTopS10.xlsx\"\n",
    "rawdf = pd.read_excel(rawPath)\n",
    "rawdf.head()"
   ]
  },
  {
   "cell_type": "markdown",
   "metadata": {},
   "source": [
    "Die Spalte \"Position\" wird entfernt, da sie immer gleich ist. Spalte \"Player\" wird entfernt da sie nicht benötigt wird."
   ]
  },
  {
   "cell_type": "code",
   "execution_count": 3,
   "metadata": {},
   "outputs": [
    {
     "data": {
      "text/html": [
       "<div>\n",
       "<style scoped>\n",
       "    .dataframe tbody tr th:only-of-type {\n",
       "        vertical-align: middle;\n",
       "    }\n",
       "\n",
       "    .dataframe tbody tr th {\n",
       "        vertical-align: top;\n",
       "    }\n",
       "\n",
       "    .dataframe thead th {\n",
       "        text-align: right;\n",
       "    }\n",
       "</style>\n",
       "<table border=\"1\" class=\"dataframe\">\n",
       "  <thead>\n",
       "    <tr style=\"text-align: right;\">\n",
       "      <th></th>\n",
       "      <th>Games</th>\n",
       "      <th>Win Rate</th>\n",
       "      <th>KDA</th>\n",
       "      <th>Avg Kills</th>\n",
       "      <th>Avg Deaths</th>\n",
       "      <th>Avg Assists</th>\n",
       "      <th>CSM</th>\n",
       "      <th>GPM</th>\n",
       "      <th>KP%</th>\n",
       "      <th>DMG%</th>\n",
       "      <th>...</th>\n",
       "      <th>VSPM</th>\n",
       "      <th>Avg WPM</th>\n",
       "      <th>Avg WCPM</th>\n",
       "      <th>Avg VWPM</th>\n",
       "      <th>GD@15</th>\n",
       "      <th>CSD@15</th>\n",
       "      <th>XPD@15</th>\n",
       "      <th>FB%</th>\n",
       "      <th>FB Victim</th>\n",
       "      <th>Solo Kills</th>\n",
       "    </tr>\n",
       "  </thead>\n",
       "  <tbody>\n",
       "    <tr>\n",
       "      <th>0</th>\n",
       "      <td>129</td>\n",
       "      <td>66.7%</td>\n",
       "      <td>3.6</td>\n",
       "      <td>2.8</td>\n",
       "      <td>2.4</td>\n",
       "      <td>5.9</td>\n",
       "      <td>8.2</td>\n",
       "      <td>400</td>\n",
       "      <td>57.2%</td>\n",
       "      <td>22.4</td>\n",
       "      <td>...</td>\n",
       "      <td>1.05</td>\n",
       "      <td>0.39</td>\n",
       "      <td>0.21</td>\n",
       "      <td>0.14</td>\n",
       "      <td>137</td>\n",
       "      <td>4</td>\n",
       "      <td>5</td>\n",
       "      <td>8.5%</td>\n",
       "      <td>10.1%</td>\n",
       "      <td>24</td>\n",
       "    </tr>\n",
       "    <tr>\n",
       "      <th>1</th>\n",
       "      <td>26</td>\n",
       "      <td>42.3%</td>\n",
       "      <td>1.8</td>\n",
       "      <td>1.9</td>\n",
       "      <td>3.4</td>\n",
       "      <td>4.1</td>\n",
       "      <td>7.8</td>\n",
       "      <td>365</td>\n",
       "      <td>57.8%</td>\n",
       "      <td>26.2</td>\n",
       "      <td>...</td>\n",
       "      <td>1.02</td>\n",
       "      <td>0.49</td>\n",
       "      <td>0.17</td>\n",
       "      <td>0.2</td>\n",
       "      <td>-483</td>\n",
       "      <td>-6</td>\n",
       "      <td>-245</td>\n",
       "      <td>7.7%</td>\n",
       "      <td>30.8%</td>\n",
       "      <td>5</td>\n",
       "    </tr>\n",
       "    <tr>\n",
       "      <th>2</th>\n",
       "      <td>21</td>\n",
       "      <td>47.6%</td>\n",
       "      <td>2.3</td>\n",
       "      <td>1.6</td>\n",
       "      <td>3.1</td>\n",
       "      <td>5.6</td>\n",
       "      <td>7.2</td>\n",
       "      <td>341</td>\n",
       "      <td>61.8%</td>\n",
       "      <td>21.2</td>\n",
       "      <td>...</td>\n",
       "      <td>0.69</td>\n",
       "      <td>0.46</td>\n",
       "      <td>0.15</td>\n",
       "      <td>0.15</td>\n",
       "      <td>-631</td>\n",
       "      <td>0</td>\n",
       "      <td>311</td>\n",
       "      <td>4.8%</td>\n",
       "      <td>0%</td>\n",
       "      <td>-</td>\n",
       "    </tr>\n",
       "    <tr>\n",
       "      <th>3</th>\n",
       "      <td>45</td>\n",
       "      <td>48.9%</td>\n",
       "      <td>2.5</td>\n",
       "      <td>1.7</td>\n",
       "      <td>3.0</td>\n",
       "      <td>5.7</td>\n",
       "      <td>7.3</td>\n",
       "      <td>359</td>\n",
       "      <td>56.6%</td>\n",
       "      <td>22.9</td>\n",
       "      <td>...</td>\n",
       "      <td>1.1</td>\n",
       "      <td>0.52</td>\n",
       "      <td>0.19</td>\n",
       "      <td>0.22</td>\n",
       "      <td>136</td>\n",
       "      <td>4</td>\n",
       "      <td>62</td>\n",
       "      <td>24.4%</td>\n",
       "      <td>11.1%</td>\n",
       "      <td>15</td>\n",
       "    </tr>\n",
       "    <tr>\n",
       "      <th>4</th>\n",
       "      <td>17</td>\n",
       "      <td>35.3%</td>\n",
       "      <td>2.2</td>\n",
       "      <td>2.2</td>\n",
       "      <td>3.8</td>\n",
       "      <td>6.3</td>\n",
       "      <td>6.6</td>\n",
       "      <td>341</td>\n",
       "      <td>67.5%</td>\n",
       "      <td>20.7</td>\n",
       "      <td>...</td>\n",
       "      <td>1.39</td>\n",
       "      <td>0.49</td>\n",
       "      <td>0.21</td>\n",
       "      <td>0.19</td>\n",
       "      <td>-356</td>\n",
       "      <td>-10</td>\n",
       "      <td>-317</td>\n",
       "      <td>17.6%</td>\n",
       "      <td>0%</td>\n",
       "      <td>-</td>\n",
       "    </tr>\n",
       "  </tbody>\n",
       "</table>\n",
       "<p>5 rows × 21 columns</p>\n",
       "</div>"
      ],
      "text/plain": [
       "   Games Win Rate  KDA  Avg Kills  Avg Deaths  Avg Assists  CSM  GPM    KP%  \\\n",
       "0    129    66.7%  3.6        2.8         2.4          5.9  8.2  400  57.2%   \n",
       "1     26    42.3%  1.8        1.9         3.4          4.1  7.8  365  57.8%   \n",
       "2     21    47.6%  2.3        1.6         3.1          5.6  7.2  341  61.8%   \n",
       "3     45    48.9%  2.5        1.7         3.0          5.7  7.3  359  56.6%   \n",
       "4     17    35.3%  2.2        2.2         3.8          6.3  6.6  341  67.5%   \n",
       "\n",
       "   DMG%  ...  VSPM Avg WPM Avg WCPM Avg VWPM GD@15 CSD@15 XPD@15    FB%  \\\n",
       "0  22.4  ...  1.05    0.39     0.21     0.14   137      4      5   8.5%   \n",
       "1  26.2  ...  1.02    0.49     0.17      0.2  -483     -6   -245   7.7%   \n",
       "2  21.2  ...  0.69    0.46     0.15     0.15  -631      0    311   4.8%   \n",
       "3  22.9  ...   1.1    0.52     0.19     0.22   136      4     62  24.4%   \n",
       "4  20.7  ...  1.39    0.49     0.21     0.19  -356    -10   -317  17.6%   \n",
       "\n",
       "  FB Victim Solo Kills  \n",
       "0     10.1%         24  \n",
       "1     30.8%          5  \n",
       "2        0%          -  \n",
       "3     11.1%         15  \n",
       "4        0%          -  \n",
       "\n",
       "[5 rows x 21 columns]"
      ]
     },
     "execution_count": 3,
     "metadata": {},
     "output_type": "execute_result"
    }
   ],
   "source": [
    "df = rawdf.drop([\"Position\",\"Player\",\"Penta Kills\"], axis = 1)\n",
    "df.head()"
   ]
  },
  {
   "cell_type": "markdown",
   "metadata": {},
   "source": [
    "Alle \"-\" in Spalte \"Solo Kills\" werden zu Nullen konvertiert"
   ]
  },
  {
   "cell_type": "code",
   "execution_count": 4,
   "metadata": {},
   "outputs": [],
   "source": [
    "df[\"Solo Kills\"] = df[\"Solo Kills\"].replace(\"-\", \"0\")"
   ]
  },
  {
   "cell_type": "markdown",
   "metadata": {},
   "source": [
    "Zeilen aussortieren, bei denen Datenpunkte fehlen. "
   ]
  },
  {
   "cell_type": "code",
   "execution_count": 5,
   "metadata": {},
   "outputs": [],
   "source": [
    "for col in list(df):\n",
    "        df.drop(index = df[df[col] == \"-\"].index,inplace = True)"
   ]
  },
  {
   "cell_type": "code",
   "execution_count": 6,
   "metadata": {},
   "outputs": [],
   "source": [
    "df[\"DMG%\"] = df[\"DMG%\"].astype(str)"
   ]
  },
  {
   "cell_type": "markdown",
   "metadata": {},
   "source": [
    "Alle Prozentzahlen werden zu floats konvertiert"
   ]
  },
  {
   "cell_type": "code",
   "execution_count": 7,
   "metadata": {},
   "outputs": [],
   "source": [
    "percentageColumns = [\"Win Rate\", \"KP%\", \"DMG%\", \"FB%\", \"FB Victim\"]\n",
    "for col in percentageColumns:\n",
    "    df[col] = df[col].str.rstrip('%').astype('float') / 100.0"
   ]
  },
  {
   "cell_type": "markdown",
   "metadata": {},
   "source": [
    "Als .csv zur Wiederverwendung speichern"
   ]
  },
  {
   "cell_type": "code",
   "execution_count": 8,
   "metadata": {},
   "outputs": [],
   "source": [
    "df.to_csv(\"cleanDataTopS10.csv\", index = False)"
   ]
  },
  {
   "cell_type": "code",
   "execution_count": 61,
   "metadata": {},
   "outputs": [],
   "source": [
    "df_mid = pd.read_csv(\"cleanDataMidS10.csv\")\n",
    "df_top = pd.read_csv(\"cleanDataTopS10.csv\")"
   ]
  },
  {
   "cell_type": "code",
   "execution_count": 62,
   "metadata": {},
   "outputs": [
    {
     "data": {
      "text/html": [
       "<div>\n",
       "<style scoped>\n",
       "    .dataframe tbody tr th:only-of-type {\n",
       "        vertical-align: middle;\n",
       "    }\n",
       "\n",
       "    .dataframe tbody tr th {\n",
       "        vertical-align: top;\n",
       "    }\n",
       "\n",
       "    .dataframe thead th {\n",
       "        text-align: right;\n",
       "    }\n",
       "</style>\n",
       "<table border=\"1\" class=\"dataframe\">\n",
       "  <thead>\n",
       "    <tr style=\"text-align: right;\">\n",
       "      <th></th>\n",
       "      <th>Games</th>\n",
       "      <th>Win Rate</th>\n",
       "      <th>KDA</th>\n",
       "      <th>Avg Kills</th>\n",
       "      <th>Avg Deaths</th>\n",
       "      <th>Avg Assists</th>\n",
       "      <th>CSM</th>\n",
       "      <th>GPM</th>\n",
       "      <th>KP%</th>\n",
       "      <th>DMG%</th>\n",
       "      <th>DPM</th>\n",
       "      <th>VSPM</th>\n",
       "      <th>Avg WPM</th>\n",
       "      <th>Avg WCPM</th>\n",
       "      <th>Avg VWPM</th>\n",
       "      <th>GD@15</th>\n",
       "      <th>CSD@15</th>\n",
       "      <th>XPD@15</th>\n",
       "      <th>FB%</th>\n",
       "      <th>FB Victim</th>\n",
       "      <th>Solo Kills</th>\n",
       "    </tr>\n",
       "  </thead>\n",
       "  <tbody>\n",
       "    <tr>\n",
       "      <th>0</th>\n",
       "      <td>12</td>\n",
       "      <td>0.667</td>\n",
       "      <td>2.9</td>\n",
       "      <td>3.1</td>\n",
       "      <td>3.1</td>\n",
       "      <td>5.9</td>\n",
       "      <td>7.3</td>\n",
       "      <td>361</td>\n",
       "      <td>0.673</td>\n",
       "      <td>0.304</td>\n",
       "      <td>574</td>\n",
       "      <td>1.08</td>\n",
       "      <td>0.39</td>\n",
       "      <td>0.19</td>\n",
       "      <td>0.17</td>\n",
       "      <td>-88</td>\n",
       "      <td>-7</td>\n",
       "      <td>70</td>\n",
       "      <td>0.167</td>\n",
       "      <td>0.167</td>\n",
       "      <td>4</td>\n",
       "    </tr>\n",
       "    <tr>\n",
       "      <th>1</th>\n",
       "      <td>14</td>\n",
       "      <td>0.500</td>\n",
       "      <td>5.0</td>\n",
       "      <td>3.4</td>\n",
       "      <td>1.5</td>\n",
       "      <td>4.1</td>\n",
       "      <td>7.9</td>\n",
       "      <td>368</td>\n",
       "      <td>0.605</td>\n",
       "      <td>0.217</td>\n",
       "      <td>361</td>\n",
       "      <td>0.95</td>\n",
       "      <td>0.57</td>\n",
       "      <td>0.15</td>\n",
       "      <td>0.30</td>\n",
       "      <td>-446</td>\n",
       "      <td>-18</td>\n",
       "      <td>-585</td>\n",
       "      <td>0.286</td>\n",
       "      <td>0.000</td>\n",
       "      <td>2</td>\n",
       "    </tr>\n",
       "    <tr>\n",
       "      <th>2</th>\n",
       "      <td>43</td>\n",
       "      <td>0.419</td>\n",
       "      <td>3.5</td>\n",
       "      <td>4.0</td>\n",
       "      <td>2.4</td>\n",
       "      <td>4.3</td>\n",
       "      <td>9.4</td>\n",
       "      <td>418</td>\n",
       "      <td>0.685</td>\n",
       "      <td>0.309</td>\n",
       "      <td>566</td>\n",
       "      <td>1.20</td>\n",
       "      <td>0.48</td>\n",
       "      <td>0.24</td>\n",
       "      <td>0.21</td>\n",
       "      <td>-26</td>\n",
       "      <td>1</td>\n",
       "      <td>31</td>\n",
       "      <td>0.163</td>\n",
       "      <td>0.047</td>\n",
       "      <td>17</td>\n",
       "    </tr>\n",
       "    <tr>\n",
       "      <th>3</th>\n",
       "      <td>41</td>\n",
       "      <td>0.488</td>\n",
       "      <td>3.1</td>\n",
       "      <td>2.9</td>\n",
       "      <td>2.9</td>\n",
       "      <td>6.1</td>\n",
       "      <td>8.2</td>\n",
       "      <td>384</td>\n",
       "      <td>0.719</td>\n",
       "      <td>0.283</td>\n",
       "      <td>535</td>\n",
       "      <td>1.02</td>\n",
       "      <td>0.44</td>\n",
       "      <td>0.17</td>\n",
       "      <td>0.19</td>\n",
       "      <td>233</td>\n",
       "      <td>4</td>\n",
       "      <td>106</td>\n",
       "      <td>0.390</td>\n",
       "      <td>0.073</td>\n",
       "      <td>6</td>\n",
       "    </tr>\n",
       "    <tr>\n",
       "      <th>4</th>\n",
       "      <td>1</td>\n",
       "      <td>1.000</td>\n",
       "      <td>5.7</td>\n",
       "      <td>10.0</td>\n",
       "      <td>3.0</td>\n",
       "      <td>7.0</td>\n",
       "      <td>9.5</td>\n",
       "      <td>542</td>\n",
       "      <td>0.630</td>\n",
       "      <td>0.320</td>\n",
       "      <td>1046</td>\n",
       "      <td>1.14</td>\n",
       "      <td>0.59</td>\n",
       "      <td>0.23</td>\n",
       "      <td>0.26</td>\n",
       "      <td>1497</td>\n",
       "      <td>33</td>\n",
       "      <td>442</td>\n",
       "      <td>0.000</td>\n",
       "      <td>0.000</td>\n",
       "      <td>0</td>\n",
       "    </tr>\n",
       "  </tbody>\n",
       "</table>\n",
       "</div>"
      ],
      "text/plain": [
       "   Games  Win Rate  KDA  Avg Kills  Avg Deaths  Avg Assists  CSM  GPM    KP%  \\\n",
       "0     12     0.667  2.9        3.1         3.1          5.9  7.3  361  0.673   \n",
       "1     14     0.500  5.0        3.4         1.5          4.1  7.9  368  0.605   \n",
       "2     43     0.419  3.5        4.0         2.4          4.3  9.4  418  0.685   \n",
       "3     41     0.488  3.1        2.9         2.9          6.1  8.2  384  0.719   \n",
       "4      1     1.000  5.7       10.0         3.0          7.0  9.5  542  0.630   \n",
       "\n",
       "    DMG%   DPM  VSPM  Avg WPM  Avg WCPM  Avg VWPM  GD@15  CSD@15  XPD@15  \\\n",
       "0  0.304   574  1.08     0.39      0.19      0.17    -88      -7      70   \n",
       "1  0.217   361  0.95     0.57      0.15      0.30   -446     -18    -585   \n",
       "2  0.309   566  1.20     0.48      0.24      0.21    -26       1      31   \n",
       "3  0.283   535  1.02     0.44      0.17      0.19    233       4     106   \n",
       "4  0.320  1046  1.14     0.59      0.23      0.26   1497      33     442   \n",
       "\n",
       "     FB%  FB Victim  Solo Kills  \n",
       "0  0.167      0.167           4  \n",
       "1  0.286      0.000           2  \n",
       "2  0.163      0.047          17  \n",
       "3  0.390      0.073           6  \n",
       "4  0.000      0.000           0  "
      ]
     },
     "execution_count": 62,
     "metadata": {},
     "output_type": "execute_result"
    }
   ],
   "source": [
    "objs = [df_mid, df_top]\n",
    "df_new = pd.concat(objs, axis=0, join='outer', ignore_index=False, keys=None, levels=None, names=None, verify_integrity=False, sort=None, copy=True)\n",
    "df_new.head()"
   ]
  },
  {
   "cell_type": "code",
   "execution_count": 14,
   "metadata": {},
   "outputs": [],
   "source": [
    "df_new.to_csv(\"cleanDataMid+TopS10.csv\", index = False)"
   ]
  },
  {
   "cell_type": "code",
   "execution_count": 70,
   "metadata": {},
   "outputs": [],
   "source": [
    "df = pd.read_csv(\"cleanDataMid+TopS10.csv\")"
   ]
  },
  {
   "cell_type": "code",
   "execution_count": 17,
   "metadata": {},
   "outputs": [],
   "source": [
    "indexFewGames = df[df[\"Games\"] < 10].index\n",
    "df.drop(indexFewGames, inplace = True)"
   ]
  },
  {
   "cell_type": "code",
   "execution_count": 18,
   "metadata": {},
   "outputs": [],
   "source": [
    "df.to_csv(\"cleanDataTop+MidS10.csv\", index = False)"
   ]
  },
  {
   "cell_type": "markdown",
   "metadata": {},
   "source": [
    "---"
   ]
  },
  {
   "cell_type": "markdown",
   "metadata": {},
   "source": [
    "weitere Datenbereinigung (aussortieren der 0-Werte)"
   ]
  },
  {
   "cell_type": "code",
   "execution_count": 100,
   "metadata": {},
   "outputs": [
    {
     "data": {
      "text/plain": [
       "(559, 21)"
      ]
     },
     "execution_count": 100,
     "metadata": {},
     "output_type": "execute_result"
    }
   ],
   "source": [
    "df = pd.read_csv(\"cleanDataTop+MidS10.csv\")\n",
    "df.shape"
   ]
  },
  {
   "cell_type": "code",
   "execution_count": 101,
   "metadata": {},
   "outputs": [
    {
     "data": {
      "text/plain": [
       "(555, 21)"
      ]
     },
     "execution_count": 101,
     "metadata": {},
     "output_type": "execute_result"
    }
   ],
   "source": [
    "df.dropna() #drop all rows with any undefined / NaN values (keine rows gedropped)\n",
    "indexNames = df[ df['Win Rate'] == 0].index #get indexes of rows that contain 0 in column Win rate\n",
    "df.drop(indexNames , inplace=True) #dataframe drops rows that we just found out about\n",
    "df.shape #we do now have 555 rows instead of 559, 4 rows that contained 0 in prediction column were dropped"
   ]
  },
  {
   "cell_type": "code",
   "execution_count": 102,
   "metadata": {},
   "outputs": [],
   "source": [
    "df.to_csv(\"cleanDataTop+MidS10Final.csv\", index = False)"
   ]
  },
  {
   "cell_type": "markdown",
   "metadata": {},
   "source": [
    "---"
   ]
  },
  {
   "cell_type": "markdown",
   "metadata": {},
   "source": [
    "## Weshalb sind die verwendeten Spalten als Labels und Feature relevant? "
   ]
  },
  {
   "cell_type": "code",
   "execution_count": null,
   "metadata": {},
   "outputs": [],
   "source": []
  },
  {
   "cell_type": "code",
   "execution_count": null,
   "metadata": {},
   "outputs": [],
   "source": []
  },
  {
   "cell_type": "code",
   "execution_count": null,
   "metadata": {},
   "outputs": [],
   "source": []
  },
  {
   "cell_type": "code",
   "execution_count": null,
   "metadata": {},
   "outputs": [],
   "source": []
  },
  {
   "cell_type": "code",
   "execution_count": null,
   "metadata": {},
   "outputs": [],
   "source": []
  },
  {
   "cell_type": "code",
   "execution_count": null,
   "metadata": {},
   "outputs": [],
   "source": []
  },
  {
   "cell_type": "code",
   "execution_count": null,
   "metadata": {},
   "outputs": [],
   "source": []
  },
  {
   "cell_type": "code",
   "execution_count": null,
   "metadata": {},
   "outputs": [],
   "source": []
  },
  {
   "cell_type": "code",
   "execution_count": null,
   "metadata": {},
   "outputs": [],
   "source": []
  },
  {
   "cell_type": "code",
   "execution_count": null,
   "metadata": {},
   "outputs": [],
   "source": []
  },
  {
   "cell_type": "code",
   "execution_count": null,
   "metadata": {},
   "outputs": [],
   "source": []
  },
  {
   "cell_type": "markdown",
   "metadata": {},
   "source": [
    "Die Metrik DPM spiegelt wider, wieviel Schaden ein Spieler besonders starken gegnerischen Einheiten, sogenannten \"Champions\" durchschnittlich über seine Spielzeit hinweg zufügt. Durch einen diesbezüglich hohen Wert kann vermutet werden, dass ein Spieler einen großen Beitrag zu der Zerstörung der gegnerischen Champions beiträgt und somit auch viele Tode der eigenen Mitspieler verhindert, was generell eine gute Eigenschaft eines Spielers ist."
   ]
  },
  {
   "cell_type": "markdown",
   "metadata": {},
   "source": [
    "Die Spalte VSPM gibt an, welchen minütlichen \"Vision Score\" im Durschnitt all seiner Spiele hatte. Der Vision Score ist eine durchaus wichtige Metrik, da er aussagt, wie sehr Spieler mit ihren Mitspielern Zusammenarbeiten. Denn durch das Zerstören von gegnerischen stationären Einheiten namens Wards verkürzt ein Spieler die Zeit, in welcher diese Wards seinen Mitspieler schaden könnten."
   ]
  },
  {
   "cell_type": "markdown",
   "metadata": {},
   "source": [
    "Die Spalte \"Avg WPM\" gibt einen Durchschnitt der Metrik \"Wards Per Minute\" an. Im speziellen spiegelt dieser Wert also wider, wie schnell und häufig ein Spieler \"Wards\" aller Art (eine stationäre Einheit, die bestimmte Gegner im Umfeld angreift) plaziert. Während eine effektive Plazierung der Wards natürlich auch wichtig ist, ist ein hoher Durschnittswert natürlich positiver als eine niedrige Platzierungsrate."
   ]
  },
  {
   "cell_type": "markdown",
   "metadata": {},
   "source": [
    "Die Spalte \"Avg WCPM\" gibt einen Durchschnittswert bezüglich der Rate an, mit welcher ein Spieler generische Wards (eine stationäre Einheit, die bestimmte Gegner im Umfeld angreift) zerstört an. Im speziellen spiegelt dieser Wert also wider, wie schnell und häufig ein Spieler Wards aller Art aus dem Weg räumt und somit Schaden an seinem Team verhindert. "
   ]
  },
  {
   "cell_type": "markdown",
   "metadata": {},
   "source": [
    "Die Spalte \"Avg VWPM\" gibt einen Durchschnitt der Metrik \"Vision Wards Per Minute\" an. Im speziellen spiegelt dieser Wert also wider, wie schnell und häufig ein Spieler im Speziellen \"Vision Wards\" (eine stationäre Einheit, die bestimmte Gegner im Umfeld angreift) plaziert. Während eine effektive Plazierung der Vision Wards natürlich auch wichtig ist, ist ein hoher Durschnittswert natürlich positiver als eine niedrige Platzierungsrate."
   ]
  },
  {
   "cell_type": "markdown",
   "metadata": {},
   "source": [
    "GD@15 gibt an, wieviel mehr oder weniger Gold ein Spieler im Vergleich zu dem gleichpositionierten Gegenspieler nach 15 Minuten hat. Eine hohe Anzahl an Gold zeigt auf, dass ein Spieler viele Kills o.ä. getätigt hat und somit einen guten Beitrag zum Teamergebnis leistet. Ist die Difference/Unterschied zum Enemy Laner also hoch bzw. positiv, so hat der Spieler im Durschnitt all seiner Runden eher überdurschnittlich viel Gold gesammelt."
   ]
  },
  {
   "cell_type": "markdown",
   "metadata": {},
   "source": [
    "CSD@15 gibt die durchschnittliche Creep Score Difference nach 15 Minuten an. Der Creep Score gibt in League of Legends generell die Anzahl der Creeps bzw. einfacher zu tötenden Bots an, die ein Champion getötet hat. Ein hoher Creep Score pro Minute ist sehr positiv, weshalb die Creep Score Difference, bzw. der Abstand zum CS anderer Spieler ebenfalls positiv und nicht negativ sein sollte. "
   ]
  },
  {
   "cell_type": "markdown",
   "metadata": {},
   "source": [
    "Der Wert XPD@15 beschreibt, wieviel weniger oder mehr Erfahrungspunkte ein Spieler durch erfolgreiche Kills etc. nach 15 Minuten gesammelt hat. Die XP-Difference nach 15 Minuten misst ist ein Wert der einen Überblick über erfolgreiche Handlungen und die Gesamtperformance des Spielers gibt. Der XP Abstand zu Anderen Spielern, also XPD, sollte bei einer überdurchschnittlichen Performance positiv sein. "
   ]
  },
  {
   "cell_type": "markdown",
   "metadata": {},
   "source": [
    "Die Spalte FB besagt, welchen Teil der Spieler zu dem ersten Kill einer Runde beigetragen hat. Diese \"First Bloos Participation\" kann für positiv sowie negativ sein. Zwar trägt der Spieler dazu bei, dass das Team vermehrt Gold sammelt,\n",
    "jedoch geht er auch die Risiken einer aggressiven Spielweise ein.  "
   ]
  },
  {
   "cell_type": "markdown",
   "metadata": {},
   "source": [
    "Die Spalte \"FB Victim\" beschreibt, inwieviel Prozent der Fälle der jeweilige Spieler in einer Runde als erstes gestorben ist. Dieser Prozentsatz sollte möglichst niedrig sein. "
   ]
  },
  {
   "cell_type": "markdown",
   "metadata": {},
   "source": [
    "Die Metrik Solo Kills beschreibt, wieviele Kills insgesamt getätigt wurden, ohne dass Teammitglieder hierzu beigegetragen haben. Dieser Wert und das Verhältnis zu der Gesamtanzahl der Kills haben eine hohe Aussagekraft darüber, wie eigenständig  und teamunabhängig ein Spieler ist."
   ]
  },
  {
   "cell_type": "code",
   "execution_count": null,
   "metadata": {},
   "outputs": [],
   "source": []
  }
 ],
 "metadata": {
  "kernelspec": {
   "display_name": "Python 3",
   "language": "python",
   "name": "python3"
  },
  "language_info": {
   "codemirror_mode": {
    "name": "ipython",
    "version": 3
   },
   "file_extension": ".py",
   "mimetype": "text/x-python",
   "name": "python",
   "nbconvert_exporter": "python",
   "pygments_lexer": "ipython3",
   "version": "3.9.1"
  }
 },
 "nbformat": 4,
 "nbformat_minor": 2
}
