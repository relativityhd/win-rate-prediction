{
 "cells": [
  {
   "cell_type": "markdown",
   "metadata": {},
   "source": [
    "Zuallererst wurden die Daten von https://gol.gg/players/list/season-S10/split-ALL/tournament-ALL/ als Excel-Tabelle herunter geladen. Aus dieser Tabelle wurden Bilder entfernt und die Spalten-Bezeichnungen hinzugefügt. \n",
    "Die Abkürzungen bedeuten: (hier fehlen erklärungen)<br>\n",
    "KDA = Kill Death Assist <br>\n",
    "CSM = Average Creep Score per Minute per Game <br>\n",
    "GPM = Average Gold per Minute per Games <br>\n",
    "KP = Average Kill Participation per Game<br>\n",
    "DMG = Average share of team's total damage to champions per game<br>\n",
    "DPM = Average damage to champions per minute per game<br>\n",
    "VSPM = Average vision score per minute per game<br>\n",
    "WPM = Wards per minute per Game<br>\n",
    "WCPM = Wards cleared per minute per game<br>\n",
    "VWPM = vision wards per minute per game<br>\n",
    "GD@15 = Average Gold Difference at 15 minutes<br>\n",
    "CSD@15 = Average Creep Score Difference at 15 minutes<br>\n",
    "XPD@15 = Average Experience Points Difference at 15 minutes<br>\n",
    "FB = Firstblood Participation<br>\n",
    "FB Victim = First blood Victim<br>\n",
    "Penta Kills = Total Pentakills<br>\n",
    "Solo Kills = Total Kills without Teammate Participation<br>"
   ]
  },
  {
   "cell_type": "code",
   "execution_count": 1,
   "metadata": {},
   "outputs": [],
   "source": [
    "import pandas as pd\n",
    "import os"
   ]
  },
  {
   "cell_type": "code",
   "execution_count": 3,
   "metadata": {},
   "outputs": [],
   "source": [
    "pd.set_option(\"display.max_columns\", None)"
   ]
  },
  {
   "cell_type": "markdown",
   "metadata": {},
   "source": [
    "---"
   ]
  },
  {
   "cell_type": "markdown",
   "metadata": {},
   "source": [
    "Laden der Rohdaten in Pandas (Hier nur zu Doku zwecken. In zukunft die bereits bearbeiteten Daten nutzen!)<br>\n",
    "in rawPath kommt der Pfad zur Excel Tabelle."
   ]
  },
  {
   "cell_type": "code",
   "execution_count": 4,
   "metadata": {
    "scrolled": true
   },
   "outputs": [
    {
     "data": {
      "text/html": [
       "<div>\n",
       "<style scoped>\n",
       "    .dataframe tbody tr th:only-of-type {\n",
       "        vertical-align: middle;\n",
       "    }\n",
       "\n",
       "    .dataframe tbody tr th {\n",
       "        vertical-align: top;\n",
       "    }\n",
       "\n",
       "    .dataframe thead th {\n",
       "        text-align: right;\n",
       "    }\n",
       "</style>\n",
       "<table border=\"1\" class=\"dataframe\">\n",
       "  <thead>\n",
       "    <tr style=\"text-align: right;\">\n",
       "      <th></th>\n",
       "      <th>Player</th>\n",
       "      <th>Position</th>\n",
       "      <th>Games</th>\n",
       "      <th>Win Rate</th>\n",
       "      <th>KDA</th>\n",
       "      <th>Avg Kills</th>\n",
       "      <th>Avg Deaths</th>\n",
       "      <th>Avg Assists</th>\n",
       "      <th>CSM</th>\n",
       "      <th>DPM</th>\n",
       "      <th>KP%</th>\n",
       "      <th>DMG%</th>\n",
       "      <th>DPM.1</th>\n",
       "      <th>VSPM</th>\n",
       "      <th>Avg WPM</th>\n",
       "      <th>Avg WCPM</th>\n",
       "      <th>Avg VWPM</th>\n",
       "      <th>GD@15</th>\n",
       "      <th>CSD@15</th>\n",
       "      <th>XPD@15</th>\n",
       "      <th>FB%</th>\n",
       "      <th>FB Victim</th>\n",
       "      <th>Penta Kills</th>\n",
       "      <th>Solo Kills</th>\n",
       "    </tr>\n",
       "  </thead>\n",
       "  <tbody>\n",
       "    <tr>\n",
       "      <th>0</th>\n",
       "      <td>369</td>\n",
       "      <td>TOP</td>\n",
       "      <td>129</td>\n",
       "      <td>66.7%</td>\n",
       "      <td>3.6</td>\n",
       "      <td>2.8</td>\n",
       "      <td>2.4</td>\n",
       "      <td>5.9</td>\n",
       "      <td>8.2</td>\n",
       "      <td>400</td>\n",
       "      <td>57.2%</td>\n",
       "      <td>22.4</td>\n",
       "      <td>469</td>\n",
       "      <td>1.05</td>\n",
       "      <td>0.39</td>\n",
       "      <td>0.21</td>\n",
       "      <td>0.14</td>\n",
       "      <td>137</td>\n",
       "      <td>4</td>\n",
       "      <td>5</td>\n",
       "      <td>8.5%</td>\n",
       "      <td>10.1%</td>\n",
       "      <td>0</td>\n",
       "      <td>24</td>\n",
       "    </tr>\n",
       "    <tr>\n",
       "      <th>1</th>\n",
       "      <td>3z</td>\n",
       "      <td>TOP</td>\n",
       "      <td>26</td>\n",
       "      <td>42.3%</td>\n",
       "      <td>1.8</td>\n",
       "      <td>1.9</td>\n",
       "      <td>3.4</td>\n",
       "      <td>4.1</td>\n",
       "      <td>7.8</td>\n",
       "      <td>365</td>\n",
       "      <td>57.8%</td>\n",
       "      <td>26.2</td>\n",
       "      <td>424</td>\n",
       "      <td>1.02</td>\n",
       "      <td>0.49</td>\n",
       "      <td>0.17</td>\n",
       "      <td>0.2</td>\n",
       "      <td>-483</td>\n",
       "      <td>-6</td>\n",
       "      <td>-245</td>\n",
       "      <td>7.7%</td>\n",
       "      <td>30.8%</td>\n",
       "      <td>0</td>\n",
       "      <td>5</td>\n",
       "    </tr>\n",
       "    <tr>\n",
       "      <th>2</th>\n",
       "      <td>705</td>\n",
       "      <td>TOP</td>\n",
       "      <td>21</td>\n",
       "      <td>47.6%</td>\n",
       "      <td>2.3</td>\n",
       "      <td>1.6</td>\n",
       "      <td>3.1</td>\n",
       "      <td>5.6</td>\n",
       "      <td>7.2</td>\n",
       "      <td>341</td>\n",
       "      <td>61.8%</td>\n",
       "      <td>21.2</td>\n",
       "      <td>359</td>\n",
       "      <td>0.69</td>\n",
       "      <td>0.46</td>\n",
       "      <td>0.15</td>\n",
       "      <td>0.15</td>\n",
       "      <td>-631</td>\n",
       "      <td>0</td>\n",
       "      <td>311</td>\n",
       "      <td>4.8%</td>\n",
       "      <td>0%</td>\n",
       "      <td>0</td>\n",
       "      <td>-</td>\n",
       "    </tr>\n",
       "    <tr>\n",
       "      <th>3</th>\n",
       "      <td>ACD</td>\n",
       "      <td>TOP</td>\n",
       "      <td>45</td>\n",
       "      <td>48.9%</td>\n",
       "      <td>2.5</td>\n",
       "      <td>1.7</td>\n",
       "      <td>3.0</td>\n",
       "      <td>5.7</td>\n",
       "      <td>7.3</td>\n",
       "      <td>359</td>\n",
       "      <td>56.6%</td>\n",
       "      <td>22.9</td>\n",
       "      <td>435</td>\n",
       "      <td>1.1</td>\n",
       "      <td>0.52</td>\n",
       "      <td>0.19</td>\n",
       "      <td>0.22</td>\n",
       "      <td>136</td>\n",
       "      <td>4</td>\n",
       "      <td>62</td>\n",
       "      <td>24.4%</td>\n",
       "      <td>11.1%</td>\n",
       "      <td>0</td>\n",
       "      <td>15</td>\n",
       "    </tr>\n",
       "    <tr>\n",
       "      <th>4</th>\n",
       "      <td>ADD</td>\n",
       "      <td>TOP</td>\n",
       "      <td>17</td>\n",
       "      <td>35.3%</td>\n",
       "      <td>2.2</td>\n",
       "      <td>2.2</td>\n",
       "      <td>3.8</td>\n",
       "      <td>6.3</td>\n",
       "      <td>6.6</td>\n",
       "      <td>341</td>\n",
       "      <td>67.5%</td>\n",
       "      <td>20.7</td>\n",
       "      <td>452</td>\n",
       "      <td>1.39</td>\n",
       "      <td>0.49</td>\n",
       "      <td>0.21</td>\n",
       "      <td>0.19</td>\n",
       "      <td>-356</td>\n",
       "      <td>-10</td>\n",
       "      <td>-317</td>\n",
       "      <td>17.6%</td>\n",
       "      <td>0%</td>\n",
       "      <td>0</td>\n",
       "      <td>-</td>\n",
       "    </tr>\n",
       "  </tbody>\n",
       "</table>\n",
       "</div>"
      ],
      "text/plain": [
       "  Player Position  Games Win Rate  KDA  Avg Kills  Avg Deaths  Avg Assists  \\\n",
       "0   369       TOP    129    66.7%  3.6        2.8         2.4          5.9   \n",
       "1    3z       TOP     26    42.3%  1.8        1.9         3.4          4.1   \n",
       "2   705       TOP     21    47.6%  2.3        1.6         3.1          5.6   \n",
       "3   ACD       TOP     45    48.9%  2.5        1.7         3.0          5.7   \n",
       "4   ADD       TOP     17    35.3%  2.2        2.2         3.8          6.3   \n",
       "\n",
       "   CSM  DPM    KP%  DMG% DPM.1  VSPM Avg WPM Avg WCPM Avg VWPM GD@15 CSD@15  \\\n",
       "0  8.2  400  57.2%  22.4   469  1.05    0.39     0.21     0.14   137      4   \n",
       "1  7.8  365  57.8%  26.2   424  1.02    0.49     0.17      0.2  -483     -6   \n",
       "2  7.2  341  61.8%  21.2   359  0.69    0.46     0.15     0.15  -631      0   \n",
       "3  7.3  359  56.6%  22.9   435   1.1    0.52     0.19     0.22   136      4   \n",
       "4  6.6  341  67.5%  20.7   452  1.39    0.49     0.21     0.19  -356    -10   \n",
       "\n",
       "  XPD@15    FB% FB Victim Penta Kills Solo Kills  \n",
       "0      5   8.5%     10.1%           0         24  \n",
       "1   -245   7.7%     30.8%           0          5  \n",
       "2    311   4.8%        0%           0          -  \n",
       "3     62  24.4%     11.1%           0         15  \n",
       "4   -317  17.6%        0%           0          -  "
      ]
     },
     "execution_count": 4,
     "metadata": {},
     "output_type": "execute_result"
    }
   ],
   "source": [
    "rawPath = \"\"\n",
    "rawdf = pd.read_excel(rawPath)\n",
    "rawdf.head()"
   ]
  },
  {
   "cell_type": "markdown",
   "metadata": {},
   "source": [
    "Die Spalte \"Position\" wird entfernt, da sie immer gleich ist. Spalte \"Player\" wird entfernt da sie nicht benötigt wird. Die Spalte \"Penta Kills\" wird entfernt, weil sie quasi keine Daten beinhaltet und dementsprechend für die Analyse irrelevant ist. Die Spalte \"VSPM\" da die Daten erst seit Season 8 existieren und somit für die Hälfte des Datensatzes irrelevant ist."
   ]
  },
  {
   "cell_type": "code",
   "execution_count": 5,
   "metadata": {},
   "outputs": [
    {
     "data": {
      "text/html": [
       "<div>\n",
       "<style scoped>\n",
       "    .dataframe tbody tr th:only-of-type {\n",
       "        vertical-align: middle;\n",
       "    }\n",
       "\n",
       "    .dataframe tbody tr th {\n",
       "        vertical-align: top;\n",
       "    }\n",
       "\n",
       "    .dataframe thead th {\n",
       "        text-align: right;\n",
       "    }\n",
       "</style>\n",
       "<table border=\"1\" class=\"dataframe\">\n",
       "  <thead>\n",
       "    <tr style=\"text-align: right;\">\n",
       "      <th></th>\n",
       "      <th>Games</th>\n",
       "      <th>Win Rate</th>\n",
       "      <th>KDA</th>\n",
       "      <th>Avg Kills</th>\n",
       "      <th>Avg Deaths</th>\n",
       "      <th>Avg Assists</th>\n",
       "      <th>CSM</th>\n",
       "      <th>DPM</th>\n",
       "      <th>KP%</th>\n",
       "      <th>DMG%</th>\n",
       "      <th>DPM.1</th>\n",
       "      <th>Avg WPM</th>\n",
       "      <th>Avg WCPM</th>\n",
       "      <th>Avg VWPM</th>\n",
       "      <th>GD@15</th>\n",
       "      <th>CSD@15</th>\n",
       "      <th>XPD@15</th>\n",
       "      <th>FB%</th>\n",
       "      <th>FB Victim</th>\n",
       "      <th>Solo Kills</th>\n",
       "    </tr>\n",
       "  </thead>\n",
       "  <tbody>\n",
       "    <tr>\n",
       "      <th>0</th>\n",
       "      <td>129</td>\n",
       "      <td>66.7%</td>\n",
       "      <td>3.6</td>\n",
       "      <td>2.8</td>\n",
       "      <td>2.4</td>\n",
       "      <td>5.9</td>\n",
       "      <td>8.2</td>\n",
       "      <td>400</td>\n",
       "      <td>57.2%</td>\n",
       "      <td>22.4</td>\n",
       "      <td>469</td>\n",
       "      <td>0.39</td>\n",
       "      <td>0.21</td>\n",
       "      <td>0.14</td>\n",
       "      <td>137</td>\n",
       "      <td>4</td>\n",
       "      <td>5</td>\n",
       "      <td>8.5%</td>\n",
       "      <td>10.1%</td>\n",
       "      <td>24</td>\n",
       "    </tr>\n",
       "    <tr>\n",
       "      <th>1</th>\n",
       "      <td>26</td>\n",
       "      <td>42.3%</td>\n",
       "      <td>1.8</td>\n",
       "      <td>1.9</td>\n",
       "      <td>3.4</td>\n",
       "      <td>4.1</td>\n",
       "      <td>7.8</td>\n",
       "      <td>365</td>\n",
       "      <td>57.8%</td>\n",
       "      <td>26.2</td>\n",
       "      <td>424</td>\n",
       "      <td>0.49</td>\n",
       "      <td>0.17</td>\n",
       "      <td>0.2</td>\n",
       "      <td>-483</td>\n",
       "      <td>-6</td>\n",
       "      <td>-245</td>\n",
       "      <td>7.7%</td>\n",
       "      <td>30.8%</td>\n",
       "      <td>5</td>\n",
       "    </tr>\n",
       "    <tr>\n",
       "      <th>2</th>\n",
       "      <td>21</td>\n",
       "      <td>47.6%</td>\n",
       "      <td>2.3</td>\n",
       "      <td>1.6</td>\n",
       "      <td>3.1</td>\n",
       "      <td>5.6</td>\n",
       "      <td>7.2</td>\n",
       "      <td>341</td>\n",
       "      <td>61.8%</td>\n",
       "      <td>21.2</td>\n",
       "      <td>359</td>\n",
       "      <td>0.46</td>\n",
       "      <td>0.15</td>\n",
       "      <td>0.15</td>\n",
       "      <td>-631</td>\n",
       "      <td>0</td>\n",
       "      <td>311</td>\n",
       "      <td>4.8%</td>\n",
       "      <td>0%</td>\n",
       "      <td>-</td>\n",
       "    </tr>\n",
       "    <tr>\n",
       "      <th>3</th>\n",
       "      <td>45</td>\n",
       "      <td>48.9%</td>\n",
       "      <td>2.5</td>\n",
       "      <td>1.7</td>\n",
       "      <td>3.0</td>\n",
       "      <td>5.7</td>\n",
       "      <td>7.3</td>\n",
       "      <td>359</td>\n",
       "      <td>56.6%</td>\n",
       "      <td>22.9</td>\n",
       "      <td>435</td>\n",
       "      <td>0.52</td>\n",
       "      <td>0.19</td>\n",
       "      <td>0.22</td>\n",
       "      <td>136</td>\n",
       "      <td>4</td>\n",
       "      <td>62</td>\n",
       "      <td>24.4%</td>\n",
       "      <td>11.1%</td>\n",
       "      <td>15</td>\n",
       "    </tr>\n",
       "    <tr>\n",
       "      <th>4</th>\n",
       "      <td>17</td>\n",
       "      <td>35.3%</td>\n",
       "      <td>2.2</td>\n",
       "      <td>2.2</td>\n",
       "      <td>3.8</td>\n",
       "      <td>6.3</td>\n",
       "      <td>6.6</td>\n",
       "      <td>341</td>\n",
       "      <td>67.5%</td>\n",
       "      <td>20.7</td>\n",
       "      <td>452</td>\n",
       "      <td>0.49</td>\n",
       "      <td>0.21</td>\n",
       "      <td>0.19</td>\n",
       "      <td>-356</td>\n",
       "      <td>-10</td>\n",
       "      <td>-317</td>\n",
       "      <td>17.6%</td>\n",
       "      <td>0%</td>\n",
       "      <td>-</td>\n",
       "    </tr>\n",
       "  </tbody>\n",
       "</table>\n",
       "</div>"
      ],
      "text/plain": [
       "   Games Win Rate  KDA  Avg Kills  Avg Deaths  Avg Assists  CSM  DPM    KP%  \\\n",
       "0    129    66.7%  3.6        2.8         2.4          5.9  8.2  400  57.2%   \n",
       "1     26    42.3%  1.8        1.9         3.4          4.1  7.8  365  57.8%   \n",
       "2     21    47.6%  2.3        1.6         3.1          5.6  7.2  341  61.8%   \n",
       "3     45    48.9%  2.5        1.7         3.0          5.7  7.3  359  56.6%   \n",
       "4     17    35.3%  2.2        2.2         3.8          6.3  6.6  341  67.5%   \n",
       "\n",
       "   DMG% DPM.1 Avg WPM Avg WCPM Avg VWPM GD@15 CSD@15 XPD@15    FB% FB Victim  \\\n",
       "0  22.4   469    0.39     0.21     0.14   137      4      5   8.5%     10.1%   \n",
       "1  26.2   424    0.49     0.17      0.2  -483     -6   -245   7.7%     30.8%   \n",
       "2  21.2   359    0.46     0.15     0.15  -631      0    311   4.8%        0%   \n",
       "3  22.9   435    0.52     0.19     0.22   136      4     62  24.4%     11.1%   \n",
       "4  20.7   452    0.49     0.21     0.19  -356    -10   -317  17.6%        0%   \n",
       "\n",
       "  Solo Kills  \n",
       "0         24  \n",
       "1          5  \n",
       "2          -  \n",
       "3         15  \n",
       "4          -  "
      ]
     },
     "execution_count": 5,
     "metadata": {},
     "output_type": "execute_result"
    }
   ],
   "source": [
    "df = rawdf.drop([\"Position\",\"Player\",\"Penta Kills\", \"VSPM\"], axis = 1)\n",
    "df.head()"
   ]
  },
  {
   "cell_type": "markdown",
   "metadata": {},
   "source": [
    "Alle \"-\" in Spalte \"Solo Kills\" werden zu Nullen konvertiert"
   ]
  },
  {
   "cell_type": "code",
   "execution_count": 6,
   "metadata": {},
   "outputs": [],
   "source": [
    "df[\"Solo Kills\"] = df[\"Solo Kills\"].replace(\"-\", \"0\")"
   ]
  },
  {
   "cell_type": "markdown",
   "metadata": {},
   "source": [
    "Zeilen aussortieren, bei denen Datenpunkte fehlen. "
   ]
  },
  {
   "cell_type": "code",
   "execution_count": 7,
   "metadata": {},
   "outputs": [],
   "source": [
    "for col in list(df):\n",
    "        df.drop(index = df[df[col] == \"-\"].index,inplace = True)"
   ]
  },
  {
   "cell_type": "markdown",
   "metadata": {},
   "source": [
    "Alle Prozentzahlen werden zu floats konvertiert"
   ]
  },
  {
   "cell_type": "code",
   "execution_count": 8,
   "metadata": {},
   "outputs": [],
   "source": [
    "percentageColumns = [\"Win Rate\", \"KP%\", \"DMG%\", \"FB%\", \"FB Victim\"]\n",
    "for col in percentageColumns:\n",
    "    df[col] = df[col].str.rstrip('%').astype('float') / 100.0"
   ]
  },
  {
   "cell_type": "markdown",
   "metadata": {},
   "source": [
    "Alle Spieler die weniger als 10 Spiele gespielt haben werden entfernt, da diese aufgrund der geringen Spielanzahl keine statistisch relevanten Daten haben können. <br>\n",
    "Alle Spieler mit einer Winrate von 0 % werden entfernt, da diese als Anomalien das Neuronale Netzwerk verwirren und damit beeinträchtigen könnten."
   ]
  },
  {
   "cell_type": "code",
   "execution_count": 11,
   "metadata": {},
   "outputs": [],
   "source": [
    "indexFewGames = df[df[\"Games\"] < 10].index\n",
    "df.drop(indexFewGames, inplace = True)\n",
    "indexLowWinRate = df[ df['Win Rate'] == 0].index\n",
    "df.drop(indexLowWinRate , inplace=True)"
   ]
  },
  {
   "cell_type": "markdown",
   "metadata": {},
   "source": [
    "Die Daten werden als \".csv\" zur Wiederverwendung gespeichert"
   ]
  },
  {
   "cell_type": "code",
   "execution_count": 12,
   "metadata": {},
   "outputs": [],
   "source": [
    "df.to_csv(\"cleanData.csv\", index = False)"
   ]
  },
  {
   "cell_type": "code",
   "execution_count": null,
   "metadata": {},
   "outputs": [],
   "source": []
  },
  {
   "cell_type": "code",
   "execution_count": null,
   "metadata": {},
   "outputs": [],
   "source": []
  },
  {
   "cell_type": "code",
   "execution_count": null,
   "metadata": {},
   "outputs": [],
   "source": []
  },
  {
   "cell_type": "code",
   "execution_count": null,
   "metadata": {},
   "outputs": [],
   "source": []
  },
  {
   "cell_type": "code",
   "execution_count": null,
   "metadata": {},
   "outputs": [],
   "source": []
  },
  {
   "cell_type": "code",
   "execution_count": null,
   "metadata": {},
   "outputs": [],
   "source": []
  },
  {
   "cell_type": "code",
   "execution_count": null,
   "metadata": {},
   "outputs": [],
   "source": []
  },
  {
   "cell_type": "code",
   "execution_count": null,
   "metadata": {},
   "outputs": [],
   "source": []
  },
  {
   "cell_type": "code",
   "execution_count": null,
   "metadata": {},
   "outputs": [],
   "source": []
  },
  {
   "cell_type": "code",
   "execution_count": null,
   "metadata": {},
   "outputs": [],
   "source": []
  },
  {
   "cell_type": "code",
   "execution_count": null,
   "metadata": {},
   "outputs": [],
   "source": []
  },
  {
   "cell_type": "markdown",
   "metadata": {},
   "source": [
    "Die Metrik DPM spiegelt wider, wieviel Schaden ein Spieler besonders starken gegnerischen Einheiten, sogenannten \"Champions\" durchschnittlich über seine Spielzeit hinweg zufügt. Durch einen diesbezüglich hohen Wert kann vermutet werden, dass ein Spieler einen großen Beitrag zu der Zerstörung der gegnerischen Champions beiträgt und somit auch viele Tode der eigenen Mitspieler verhindert, was generell eine gute Eigenschaft eines Spielers ist."
   ]
  },
  {
   "cell_type": "markdown",
   "metadata": {},
   "source": [
    "Die Spalte VSPM gibt an, welchen minütlichen \"Vision Score\" im Durschnitt all seiner Spiele hatte. Der Vision Score ist eine durchaus wichtige Metrik, da er aussagt, wie sehr Spieler mit ihren Mitspielern Zusammenarbeiten. Denn durch das Zerstören von gegnerischen stationären Einheiten namens Wards verkürzt ein Spieler die Zeit, in welcher diese Wards seinen Mitspieler schaden könnten."
   ]
  },
  {
   "cell_type": "markdown",
   "metadata": {},
   "source": [
    "Die Spalte \"Avg WPM\" gibt einen Durchschnitt der Metrik \"Wards Per Minute\" an. Im speziellen spiegelt dieser Wert also wider, wie schnell und häufig ein Spieler \"Wards\" aller Art (eine stationäre Einheit, die bestimmte Gegner im Umfeld angreift) plaziert. Während eine effektive Plazierung der Wards natürlich auch wichtig ist, ist ein hoher Durschnittswert natürlich positiver als eine niedrige Platzierungsrate."
   ]
  },
  {
   "cell_type": "markdown",
   "metadata": {},
   "source": [
    "Die Spalte \"Avg WCPM\" gibt einen Durchschnittswert bezüglich der Rate an, mit welcher ein Spieler generische Wards (eine stationäre Einheit, die bestimmte Gegner im Umfeld angreift) zerstört an. Im speziellen spiegelt dieser Wert also wider, wie schnell und häufig ein Spieler Wards aller Art aus dem Weg räumt und somit Schaden an seinem Team verhindert. "
   ]
  },
  {
   "cell_type": "markdown",
   "metadata": {},
   "source": [
    "Die Spalte \"Avg VWPM\" gibt einen Durchschnitt der Metrik \"Vision Wards Per Minute\" an. Im speziellen spiegelt dieser Wert also wider, wie schnell und häufig ein Spieler im Speziellen \"Vision Wards\" (eine stationäre Einheit, die bestimmte Gegner im Umfeld angreift) plaziert. Während eine effektive Plazierung der Vision Wards natürlich auch wichtig ist, ist ein hoher Durschnittswert natürlich positiver als eine niedrige Platzierungsrate."
   ]
  },
  {
   "cell_type": "markdown",
   "metadata": {},
   "source": [
    "GD@15 gibt an, wieviel mehr oder weniger Gold ein Spieler im Vergleich zu dem gleichpositionierten Gegenspieler nach 15 Minuten hat. Eine hohe Anzahl an Gold zeigt auf, dass ein Spieler viele Kills o.ä. getätigt hat und somit einen guten Beitrag zum Teamergebnis leistet. Ist die Difference/Unterschied zum Enemy Laner also hoch bzw. positiv, so hat der Spieler im Durschnitt all seiner Runden eher überdurschnittlich viel Gold gesammelt."
   ]
  },
  {
   "cell_type": "markdown",
   "metadata": {},
   "source": [
    "CSD@15 gibt die durchschnittliche Creep Score Difference nach 15 Minuten an. Der Creep Score gibt in League of Legends generell die Anzahl der Creeps bzw. einfacher zu tötenden Bots an, die ein Champion getötet hat. Ein hoher Creep Score pro Minute ist sehr positiv, weshalb die Creep Score Difference, bzw. der Abstand zum CS anderer Spieler ebenfalls positiv und nicht negativ sein sollte. "
   ]
  },
  {
   "cell_type": "markdown",
   "metadata": {},
   "source": [
    "Der Wert XPD@15 beschreibt, wieviel weniger oder mehr Erfahrungspunkte ein Spieler durch erfolgreiche Kills etc. nach 15 Minuten gesammelt hat. Die XP-Difference nach 15 Minuten misst ist ein Wert der einen Überblick über erfolgreiche Handlungen und die Gesamtperformance des Spielers gibt. Der XP Abstand zu Anderen Spielern, also XPD, sollte bei einer überdurchschnittlichen Performance positiv sein. "
   ]
  },
  {
   "cell_type": "markdown",
   "metadata": {},
   "source": [
    "Die Spalte FB besagt, welchen Teil der Spieler zu dem ersten Kill einer Runde beigetragen hat. Diese \"First Bloos Participation\" kann für positiv sowie negativ sein. Zwar trägt der Spieler dazu bei, dass das Team vermehrt Gold sammelt,\n",
    "jedoch geht er auch die Risiken einer aggressiven Spielweise ein.  "
   ]
  },
  {
   "cell_type": "markdown",
   "metadata": {},
   "source": [
    "Die Spalte \"FB Victim\" beschreibt, inwieviel Prozent der Fälle der jeweilige Spieler in einer Runde als erstes gestorben ist. Dieser Prozentsatz sollte möglichst niedrig sein. "
   ]
  },
  {
   "cell_type": "markdown",
   "metadata": {},
   "source": [
    "Die Metrik Solo Kills beschreibt, wieviele Kills insgesamt getätigt wurden, ohne dass Teammitglieder hierzu beigegetragen haben. Dieser Wert und das Verhältnis zu der Gesamtanzahl der Kills haben eine hohe Aussagekraft darüber, wie eigenständig  und Teamunabhängig ein Spieler ist."
   ]
  },
  {
   "cell_type": "code",
   "execution_count": null,
   "metadata": {},
   "outputs": [],
   "source": []
  }
 ],
 "metadata": {
  "kernelspec": {
   "display_name": "Python 3",
   "language": "python",
   "name": "python3"
  },
  "language_info": {
   "codemirror_mode": {
    "name": "ipython",
    "version": 3
   },
   "file_extension": ".py",
   "mimetype": "text/x-python",
   "name": "python",
   "nbconvert_exporter": "python",
   "pygments_lexer": "ipython3",
   "version": "3.8.5"
  }
 },
 "nbformat": 4,
 "nbformat_minor": 2
}
